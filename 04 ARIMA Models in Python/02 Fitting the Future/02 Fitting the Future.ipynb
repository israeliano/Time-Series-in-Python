{
 "cells": [
  {
   "cell_type": "markdown",
   "id": "670c5ef2",
   "metadata": {},
   "source": [
    "# Fitting the Future"
   ]
  },
  {
   "cell_type": "markdown",
   "id": "70b3b5fc",
   "metadata": {},
   "source": [
    "## Imports"
   ]
  },
  {
   "cell_type": "code",
   "execution_count": 28,
   "id": "3d479814",
   "metadata": {},
   "outputs": [],
   "source": [
    "import pandas as pd\n",
    "import matplotlib.pyplot as plt"
   ]
  },
  {
   "cell_type": "code",
   "execution_count": 5,
   "id": "5f1ae329",
   "metadata": {},
   "outputs": [],
   "source": [
    "from statsmodels.tsa.arima_process import arma_generate_sample\n",
    "from statsmodels.tsa.arima.model import ARIMA"
   ]
  },
  {
   "cell_type": "markdown",
   "id": "a00aad32",
   "metadata": {},
   "source": [
    "## Fitting time series models"
   ]
  },
  {
   "cell_type": "markdown",
   "id": "201f2fa3",
   "metadata": {},
   "source": [
    "### Fitting AR and MA models"
   ]
  },
  {
   "cell_type": "code",
   "execution_count": 20,
   "id": "9ea0bf24",
   "metadata": {},
   "outputs": [],
   "source": [
    "sample = pd.DataFrame(\n",
    "    {'timeseries_1': arma_generate_sample([1, -0.89, 0.28], [1], nsample=1000),\n",
    "     'timeseries_2' : arma_generate_sample([1], [1, 0.2, 0.6, -0.1], nsample=1000)}\n",
    ")\n"
   ]
  },
  {
   "cell_type": "code",
   "execution_count": 17,
   "id": "17fd3595",
   "metadata": {},
   "outputs": [
    {
     "name": "stdout",
     "output_type": "stream",
     "text": [
      "                               SARIMAX Results                                \n",
      "==============================================================================\n",
      "Dep. Variable:           timeseries_1   No. Observations:                 1000\n",
      "Model:                 ARIMA(2, 0, 0)   Log Likelihood               -1433.648\n",
      "Date:                Wed, 17 Sep 2025   AIC                           2875.296\n",
      "Time:                        10:46:29   BIC                           2894.927\n",
      "Sample:                             0   HQIC                          2882.757\n",
      "                               - 1000                                         \n",
      "Covariance Type:                  opg                                         \n",
      "==============================================================================\n",
      "                 coef    std err          z      P>|z|      [0.025      0.975]\n",
      "------------------------------------------------------------------------------\n",
      "const          0.1874      0.079      2.366      0.018       0.032       0.343\n",
      "ar.L1          0.8898      0.030     29.954      0.000       0.832       0.948\n",
      "ar.L2         -0.2953      0.029    -10.217      0.000      -0.352      -0.239\n",
      "sigma2         1.0290      0.048     21.373      0.000       0.935       1.123\n",
      "===================================================================================\n",
      "Ljung-Box (L1) (Q):                   0.01   Jarque-Bera (JB):                 1.94\n",
      "Prob(Q):                              0.91   Prob(JB):                         0.38\n",
      "Heteroskedasticity (H):               0.93   Skew:                             0.07\n",
      "Prob(H) (two-sided):                  0.48   Kurtosis:                         2.83\n",
      "===================================================================================\n",
      "\n",
      "Warnings:\n",
      "[1] Covariance matrix calculated using the outer product of gradients (complex-step).\n"
     ]
    }
   ],
   "source": [
    "# Instantiate the model\n",
    "model = ARIMA(sample['timeseries_1'], order=(2, 0, 0))\n",
    "\n",
    "# Fit the model\n",
    "results = model.fit()\n",
    "\n",
    "# Print summary\n",
    "print(results.summary())"
   ]
  },
  {
   "cell_type": "code",
   "execution_count": 21,
   "id": "22380f92",
   "metadata": {},
   "outputs": [
    {
     "name": "stdout",
     "output_type": "stream",
     "text": [
      "                               SARIMAX Results                                \n",
      "==============================================================================\n",
      "Dep. Variable:           timeseries_2   No. Observations:                 1000\n",
      "Model:                 ARIMA(0, 0, 3)   Log Likelihood               -1413.913\n",
      "Date:                Wed, 17 Sep 2025   AIC                           2837.827\n",
      "Time:                        10:48:03   BIC                           2862.366\n",
      "Sample:                             0   HQIC                          2847.153\n",
      "                               - 1000                                         \n",
      "Covariance Type:                  opg                                         \n",
      "==============================================================================\n",
      "                 coef    std err          z      P>|z|      [0.025      0.975]\n",
      "------------------------------------------------------------------------------\n",
      "const          0.0142      0.051      0.276      0.783      -0.087       0.115\n",
      "ma.L1          0.1882      0.033      5.729      0.000       0.124       0.253\n",
      "ma.L2          0.5623      0.026     21.292      0.000       0.511       0.614\n",
      "ma.L3         -0.1260      0.034     -3.725      0.000      -0.192      -0.060\n",
      "sigma2         0.9890      0.043     22.840      0.000       0.904       1.074\n",
      "===================================================================================\n",
      "Ljung-Box (L1) (Q):                   0.04   Jarque-Bera (JB):                 1.10\n",
      "Prob(Q):                              0.84   Prob(JB):                         0.58\n",
      "Heteroskedasticity (H):               0.95   Skew:                            -0.06\n",
      "Prob(H) (two-sided):                  0.67   Kurtosis:                         3.12\n",
      "===================================================================================\n",
      "\n",
      "Warnings:\n",
      "[1] Covariance matrix calculated using the outer product of gradients (complex-step).\n"
     ]
    }
   ],
   "source": [
    "# Instantiate the model\n",
    "model = ARIMA(sample['timeseries_2'], order=(0, 0, 3))\n",
    "\n",
    "# Fit the model\n",
    "results = model.fit()\n",
    "\n",
    "# Print summary\n",
    "print(results.summary())"
   ]
  },
  {
   "cell_type": "markdown",
   "id": "05366371",
   "metadata": {},
   "source": [
    "### Fitting an ARMA model"
   ]
  },
  {
   "cell_type": "code",
   "execution_count": 23,
   "id": "426caa07",
   "metadata": {},
   "outputs": [],
   "source": [
    "earthquake = pd.read_csv('earthquakes.csv', parse_dates=['date'], index_col='date')"
   ]
  },
  {
   "cell_type": "code",
   "execution_count": 24,
   "id": "e4762abd",
   "metadata": {},
   "outputs": [
    {
     "name": "stderr",
     "output_type": "stream",
     "text": [
      "/home/israel/miniconda3/envs/ds2/lib/python3.12/site-packages/statsmodels/tsa/base/tsa_model.py:473: ValueWarning: No frequency information was provided, so inferred frequency YS-JAN will be used.\n",
      "  self._init_dates(dates, freq)\n",
      "/home/israel/miniconda3/envs/ds2/lib/python3.12/site-packages/statsmodels/tsa/base/tsa_model.py:473: ValueWarning: No frequency information was provided, so inferred frequency YS-JAN will be used.\n",
      "  self._init_dates(dates, freq)\n",
      "/home/israel/miniconda3/envs/ds2/lib/python3.12/site-packages/statsmodels/tsa/base/tsa_model.py:473: ValueWarning: No frequency information was provided, so inferred frequency YS-JAN will be used.\n",
      "  self._init_dates(dates, freq)\n"
     ]
    },
    {
     "name": "stdout",
     "output_type": "stream",
     "text": [
      "                                SARIMAX Results                                 \n",
      "================================================================================\n",
      "Dep. Variable:     earthquakes_per_year   No. Observations:                   99\n",
      "Model:                   ARIMA(3, 0, 1)   Log Likelihood                -315.673\n",
      "Date:                  Wed, 17 Sep 2025   AIC                            643.345\n",
      "Time:                          10:51:18   BIC                            658.916\n",
      "Sample:                      01-01-1900   HQIC                           649.645\n",
      "                           - 01-01-1998                                         \n",
      "Covariance Type:                    opg                                         \n",
      "==============================================================================\n",
      "                 coef    std err          z      P>|z|      [0.025      0.975]\n",
      "------------------------------------------------------------------------------\n",
      "const         19.6453      2.233      8.798      0.000      15.269      24.022\n",
      "ar.L1          0.5795      0.645      0.899      0.369      -0.684       1.843\n",
      "ar.L2          0.0251      0.308      0.081      0.935      -0.578       0.629\n",
      "ar.L3          0.1519      0.186      0.818      0.413      -0.212       0.516\n",
      "ma.L1         -0.1721      0.665     -0.259      0.796      -1.475       1.131\n",
      "sigma2        34.2630      4.939      6.938      0.000      24.583      43.943\n",
      "===================================================================================\n",
      "Ljung-Box (L1) (Q):                   0.00   Jarque-Bera (JB):                 5.36\n",
      "Prob(Q):                              0.97   Prob(JB):                         0.07\n",
      "Heteroskedasticity (H):               0.72   Skew:                             0.52\n",
      "Prob(H) (two-sided):                  0.36   Kurtosis:                         3.44\n",
      "===================================================================================\n",
      "\n",
      "Warnings:\n",
      "[1] Covariance matrix calculated using the outer product of gradients (complex-step).\n"
     ]
    }
   ],
   "source": [
    "# Instantiate the model\n",
    "model = ARIMA(earthquake['earthquakes_per_year'], order=(3, 0, 1))\n",
    "\n",
    "# Fit the model\n",
    "results = model.fit()\n",
    "\n",
    "# Print model fit summary\n",
    "print(results.summary())"
   ]
  },
  {
   "cell_type": "markdown",
   "id": "549107c6",
   "metadata": {},
   "source": [
    "### Fitting an ARMAX model"
   ]
  },
  {
   "cell_type": "code",
   "execution_count": 25,
   "id": "1ab9d0d9",
   "metadata": {},
   "outputs": [],
   "source": [
    "hospital = pd.read_csv('hospital.csv', parse_dates=['date'], index_col='date')"
   ]
  },
  {
   "cell_type": "code",
   "execution_count": 26,
   "id": "5355df08",
   "metadata": {},
   "outputs": [
    {
     "name": "stderr",
     "output_type": "stream",
     "text": [
      "/home/israel/miniconda3/envs/ds2/lib/python3.12/site-packages/statsmodels/tsa/base/tsa_model.py:473: ValueWarning: No frequency information was provided, so inferred frequency h will be used.\n",
      "  self._init_dates(dates, freq)\n",
      "/home/israel/miniconda3/envs/ds2/lib/python3.12/site-packages/statsmodels/tsa/base/tsa_model.py:473: ValueWarning: No frequency information was provided, so inferred frequency h will be used.\n",
      "  self._init_dates(dates, freq)\n",
      "/home/israel/miniconda3/envs/ds2/lib/python3.12/site-packages/statsmodels/tsa/base/tsa_model.py:473: ValueWarning: No frequency information was provided, so inferred frequency h will be used.\n",
      "  self._init_dates(dates, freq)\n"
     ]
    },
    {
     "name": "stdout",
     "output_type": "stream",
     "text": [
      "                               SARIMAX Results                                \n",
      "==============================================================================\n",
      "Dep. Variable:         wait_times_hrs   No. Observations:                  168\n",
      "Model:                 ARIMA(2, 0, 1)   Log Likelihood                 -11.834\n",
      "Date:                Wed, 17 Sep 2025   AIC                             35.668\n",
      "Time:                        11:04:06   BIC                             54.411\n",
      "Sample:                    03-04-2019   HQIC                            43.275\n",
      "                         - 03-10-2019                                         \n",
      "Covariance Type:                  opg                                         \n",
      "===============================================================================\n",
      "                  coef    std err          z      P>|z|      [0.025      0.975]\n",
      "-------------------------------------------------------------------------------\n",
      "const           2.1001      0.086     24.375      0.000       1.931       2.269\n",
      "nurse_count    -0.1171      0.012     -9.562      0.000      -0.141      -0.093\n",
      "ar.L1           0.5693      0.169      3.365      0.001       0.238       0.901\n",
      "ar.L2          -0.1612      0.140     -1.149      0.250      -0.436       0.114\n",
      "ma.L1           0.3728      0.169      2.211      0.027       0.042       0.703\n",
      "sigma2          0.0670      0.009      7.601      0.000       0.050       0.084\n",
      "===================================================================================\n",
      "Ljung-Box (L1) (Q):                   0.02   Jarque-Bera (JB):                 3.11\n",
      "Prob(Q):                              0.90   Prob(JB):                         0.21\n",
      "Heteroskedasticity (H):               0.94   Skew:                             0.18\n",
      "Prob(H) (two-sided):                  0.81   Kurtosis:                         2.44\n",
      "===================================================================================\n",
      "\n",
      "Warnings:\n",
      "[1] Covariance matrix calculated using the outer product of gradients (complex-step).\n"
     ]
    }
   ],
   "source": [
    "# Instantiate the model\n",
    "model = ARIMA(hospital['wait_times_hrs'], order=(2, 0, 1), exog=hospital['nurse_count'])\n",
    "\n",
    "# Fit the model\n",
    "results = model.fit()\n",
    "\n",
    "# Print model fit summary\n",
    "print(results.summary())"
   ]
  },
  {
   "cell_type": "markdown",
   "id": "598d95b2",
   "metadata": {},
   "source": [
    "## Forecasting"
   ]
  },
  {
   "cell_type": "markdown",
   "id": "3fc9058d",
   "metadata": {},
   "source": [
    "### Generating one-step-ahead predictions"
   ]
  },
  {
   "cell_type": "code",
   "execution_count": 57,
   "id": "11297c4d",
   "metadata": {},
   "outputs": [],
   "source": [
    "amazon = pd.read_csv('amazon_close.csv', parse_dates=True, index_col='date').sort_index()"
   ]
  },
  {
   "cell_type": "code",
   "execution_count": 58,
   "id": "f5acfe42",
   "metadata": {},
   "outputs": [
    {
     "name": "stderr",
     "output_type": "stream",
     "text": [
      "/home/israel/miniconda3/envs/ds2/lib/python3.12/site-packages/statsmodels/tsa/base/tsa_model.py:473: ValueWarning: A date index has been provided, but it has no associated frequency information and so will be ignored when e.g. forecasting.\n",
      "  self._init_dates(dates, freq)\n",
      "/home/israel/miniconda3/envs/ds2/lib/python3.12/site-packages/statsmodels/tsa/base/tsa_model.py:473: ValueWarning: A date index has been provided, but it has no associated frequency information and so will be ignored when e.g. forecasting.\n",
      "  self._init_dates(dates, freq)\n",
      "/home/israel/miniconda3/envs/ds2/lib/python3.12/site-packages/statsmodels/tsa/base/tsa_model.py:473: ValueWarning: A date index has been provided, but it has no associated frequency information and so will be ignored when e.g. forecasting.\n",
      "  self._init_dates(dates, freq)\n"
     ]
    }
   ],
   "source": [
    "# Instantiate the model\n",
    "model = ARIMA(amazon['close'], order=(3, 0, 3))\n",
    "\n",
    "# Fit the model\n",
    "results = model.fit()"
   ]
  },
  {
   "cell_type": "code",
   "execution_count": 59,
   "id": "b797e603",
   "metadata": {},
   "outputs": [
    {
     "name": "stdout",
     "output_type": "stream",
     "text": [
      "date\n",
      "2018-12-27    1470.514470\n",
      "2018-12-28    1456.158446\n",
      "2018-12-31    1473.535792\n",
      "2019-01-02    1500.892598\n",
      "2019-01-03    1540.739690\n",
      "2019-01-04    1504.424175\n",
      "2019-01-07    1576.442343\n",
      "2019-01-08    1624.124906\n",
      "2019-01-09    1649.548468\n",
      "2019-01-10    1657.019515\n",
      "2019-01-11    1660.281381\n",
      "2019-01-14    1647.627369\n",
      "2019-01-15    1621.996595\n",
      "2019-01-16    1671.246451\n",
      "2019-01-17    1674.918982\n",
      "2019-01-18    1686.884995\n",
      "2019-01-22    1697.138720\n",
      "2019-01-23    1641.109767\n",
      "2019-01-24    1648.852991\n",
      "2019-01-25    1655.012536\n",
      "2019-01-28    1662.166858\n",
      "2019-01-29    1629.862724\n",
      "2019-01-30    1594.484009\n",
      "2019-01-31    1675.297850\n",
      "2019-02-01    1720.793131\n",
      "2019-02-04    1628.050211\n",
      "2019-02-05    1634.149837\n",
      "2019-02-06    1655.835364\n",
      "2019-02-07    1636.834591\n",
      "2019-02-08    1614.551209\n",
      "Name: predicted_mean, dtype: float64\n"
     ]
    }
   ],
   "source": [
    "# Generate predictions\n",
    "one_step_forecast = results.get_prediction(start=-30)\n",
    "\n",
    "# Extract prediction mean\n",
    "mean_forecast = one_step_forecast.predicted_mean\n",
    "\n",
    "# Get confidence intervals of  predictions\n",
    "confidence_intervals = one_step_forecast.conf_int()\n",
    "\n",
    "# Select lower and upper confidence limits\n",
    "lower_limits = confidence_intervals.loc[:,'lower close']\n",
    "upper_limits = confidence_intervals.loc[:,'upper close']\n",
    "\n",
    "# Print best estimate  predictions\n",
    "print(mean_forecast)"
   ]
  },
  {
   "cell_type": "markdown",
   "id": "01239d26",
   "metadata": {},
   "source": [
    "### Plotting one-step-ahead predictions"
   ]
  },
  {
   "cell_type": "code",
   "execution_count": 63,
   "id": "be9b1ae5",
   "metadata": {},
   "outputs": [
    {
     "data": {
      "text/html": [
       "<div>\n",
       "<style scoped>\n",
       "    .dataframe tbody tr th:only-of-type {\n",
       "        vertical-align: middle;\n",
       "    }\n",
       "\n",
       "    .dataframe tbody tr th {\n",
       "        vertical-align: top;\n",
       "    }\n",
       "\n",
       "    .dataframe thead th {\n",
       "        text-align: right;\n",
       "    }\n",
       "</style>\n",
       "<table border=\"1\" class=\"dataframe\">\n",
       "  <thead>\n",
       "    <tr style=\"text-align: right;\">\n",
       "      <th></th>\n",
       "      <th>close</th>\n",
       "    </tr>\n",
       "    <tr>\n",
       "      <th>date</th>\n",
       "      <th></th>\n",
       "    </tr>\n",
       "  </thead>\n",
       "  <tbody>\n",
       "    <tr>\n",
       "      <th>2019-01-02</th>\n",
       "      <td>1539.13</td>\n",
       "    </tr>\n",
       "    <tr>\n",
       "      <th>2019-01-03</th>\n",
       "      <td>1500.28</td>\n",
       "    </tr>\n",
       "    <tr>\n",
       "      <th>2019-01-04</th>\n",
       "      <td>1575.39</td>\n",
       "    </tr>\n",
       "    <tr>\n",
       "      <th>2019-01-07</th>\n",
       "      <td>1629.51</td>\n",
       "    </tr>\n",
       "    <tr>\n",
       "      <th>2019-01-08</th>\n",
       "      <td>1656.58</td>\n",
       "    </tr>\n",
       "    <tr>\n",
       "      <th>2019-01-09</th>\n",
       "      <td>1659.42</td>\n",
       "    </tr>\n",
       "    <tr>\n",
       "      <th>2019-01-10</th>\n",
       "      <td>1656.22</td>\n",
       "    </tr>\n",
       "    <tr>\n",
       "      <th>2019-01-11</th>\n",
       "      <td>1640.56</td>\n",
       "    </tr>\n",
       "    <tr>\n",
       "      <th>2019-01-14</th>\n",
       "      <td>1617.21</td>\n",
       "    </tr>\n",
       "    <tr>\n",
       "      <th>2019-01-15</th>\n",
       "      <td>1674.56</td>\n",
       "    </tr>\n",
       "    <tr>\n",
       "      <th>2019-01-16</th>\n",
       "      <td>1683.78</td>\n",
       "    </tr>\n",
       "    <tr>\n",
       "      <th>2019-01-17</th>\n",
       "      <td>1693.22</td>\n",
       "    </tr>\n",
       "    <tr>\n",
       "      <th>2019-01-18</th>\n",
       "      <td>1696.20</td>\n",
       "    </tr>\n",
       "    <tr>\n",
       "      <th>2019-01-22</th>\n",
       "      <td>1632.17</td>\n",
       "    </tr>\n",
       "    <tr>\n",
       "      <th>2019-01-23</th>\n",
       "      <td>1640.02</td>\n",
       "    </tr>\n",
       "    <tr>\n",
       "      <th>2019-01-24</th>\n",
       "      <td>1654.93</td>\n",
       "    </tr>\n",
       "    <tr>\n",
       "      <th>2019-01-25</th>\n",
       "      <td>1670.57</td>\n",
       "    </tr>\n",
       "    <tr>\n",
       "      <th>2019-01-28</th>\n",
       "      <td>1637.89</td>\n",
       "    </tr>\n",
       "    <tr>\n",
       "      <th>2019-01-29</th>\n",
       "      <td>1593.88</td>\n",
       "    </tr>\n",
       "    <tr>\n",
       "      <th>2019-01-30</th>\n",
       "      <td>1670.43</td>\n",
       "    </tr>\n",
       "    <tr>\n",
       "      <th>2019-01-31</th>\n",
       "      <td>1718.73</td>\n",
       "    </tr>\n",
       "    <tr>\n",
       "      <th>2019-02-01</th>\n",
       "      <td>1626.23</td>\n",
       "    </tr>\n",
       "    <tr>\n",
       "      <th>2019-02-04</th>\n",
       "      <td>1633.31</td>\n",
       "    </tr>\n",
       "    <tr>\n",
       "      <th>2019-02-05</th>\n",
       "      <td>1658.81</td>\n",
       "    </tr>\n",
       "    <tr>\n",
       "      <th>2019-02-06</th>\n",
       "      <td>1640.26</td>\n",
       "    </tr>\n",
       "    <tr>\n",
       "      <th>2019-02-07</th>\n",
       "      <td>1614.37</td>\n",
       "    </tr>\n",
       "    <tr>\n",
       "      <th>2019-02-08</th>\n",
       "      <td>1588.22</td>\n",
       "    </tr>\n",
       "  </tbody>\n",
       "</table>\n",
       "</div>"
      ],
      "text/plain": [
       "              close\n",
       "date               \n",
       "2019-01-02  1539.13\n",
       "2019-01-03  1500.28\n",
       "2019-01-04  1575.39\n",
       "2019-01-07  1629.51\n",
       "2019-01-08  1656.58\n",
       "2019-01-09  1659.42\n",
       "2019-01-10  1656.22\n",
       "2019-01-11  1640.56\n",
       "2019-01-14  1617.21\n",
       "2019-01-15  1674.56\n",
       "2019-01-16  1683.78\n",
       "2019-01-17  1693.22\n",
       "2019-01-18  1696.20\n",
       "2019-01-22  1632.17\n",
       "2019-01-23  1640.02\n",
       "2019-01-24  1654.93\n",
       "2019-01-25  1670.57\n",
       "2019-01-28  1637.89\n",
       "2019-01-29  1593.88\n",
       "2019-01-30  1670.43\n",
       "2019-01-31  1718.73\n",
       "2019-02-01  1626.23\n",
       "2019-02-04  1633.31\n",
       "2019-02-05  1658.81\n",
       "2019-02-06  1640.26\n",
       "2019-02-07  1614.37\n",
       "2019-02-08  1588.22"
      ]
     },
     "execution_count": 63,
     "metadata": {},
     "output_type": "execute_result"
    }
   ],
   "source": [
    "amazon.loc['2019']"
   ]
  },
  {
   "cell_type": "code",
   "execution_count": 66,
   "id": "08d93e5c",
   "metadata": {},
   "outputs": [
    {
     "data": {
      "image/png": "[encoded data removed]",
      "text/plain": [
       "<Figure size 1000x1000 with 1 Axes>"
      ]
     },
     "metadata": {},
     "output_type": "display_data"
    }
   ],
   "source": [
    "plt.figure(figsize=(10,10))\n",
    "\n",
    "# plot the amazon data\n",
    "plt.plot(amazon.index, amazon['close'], label='observed')\n",
    "\n",
    "# plot your mean predictions\n",
    "plt.plot(mean_forecast.index, mean_forecast, color='r', label='forecast')\n",
    "\n",
    "# shade the area between your confidence limits\n",
    "plt.fill_between(lower_limits.index, lower_limits, upper_limits,\n",
    "\t\t color='pink')\n",
    "\n",
    "# set labels, legends and show plot\n",
    "plt.xlabel('Date')\n",
    "plt.ylabel('Amazon Stock Price - Close USD')\n",
    "plt.legend()\n",
    "plt.show()"
   ]
  },
  {
   "cell_type": "markdown",
   "id": "547f8502",
   "metadata": {},
   "source": [
    "### Generating dynamic forecasts"
   ]
  },
  {
   "cell_type": "code",
   "execution_count": 67,
   "id": "b385d501",
   "metadata": {},
   "outputs": [
    {
     "name": "stdout",
     "output_type": "stream",
     "text": [
      "date\n",
      "2018-12-27    1470.514470\n",
      "2018-12-28    1464.725322\n",
      "2018-12-31    1460.635563\n",
      "2019-01-02    1461.452364\n",
      "2019-01-03    1465.852390\n",
      "2019-01-04    1469.624664\n",
      "2019-01-07    1469.574328\n",
      "2019-01-08    1466.116126\n",
      "2019-01-09    1462.508050\n",
      "2019-01-10    1461.761085\n",
      "2019-01-11    1464.113382\n",
      "2019-01-14    1467.146667\n",
      "2019-01-15    1468.142716\n",
      "2019-01-16    1466.423649\n",
      "2019-01-17    1463.692658\n",
      "2019-01-18    1462.315753\n",
      "2019-01-22    1463.238578\n",
      "2019-01-23    1465.347341\n",
      "2019-01-24    1466.650145\n",
      "2019-01-25    1466.067543\n",
      "2019-01-28    1464.243438\n",
      "2019-01-29    1462.800952\n",
      "2019-01-30    1462.853091\n",
      "2019-01-31    1464.117171\n",
      "2019-02-01    1465.314898\n",
      "2019-02-04    1465.371076\n",
      "2019-02-05    1464.302360\n",
      "2019-02-06    1463.077743\n",
      "2019-02-07    1462.687193\n",
      "2019-02-08    1463.299467\n",
      "Name: predicted_mean, dtype: float64\n"
     ]
    }
   ],
   "source": [
    "# Generate predictions\n",
    "dynamic_forecast = results.get_prediction(start=-30, dynamic=True)\n",
    "\n",
    "# Extract prediction mean\n",
    "mean_forecast = dynamic_forecast.predicted_mean\n",
    "\n",
    "# Get confidence intervals of predictions\n",
    "confidence_intervals = dynamic_forecast.conf_int()\n",
    "\n",
    "# Select lower and upper confidence limits\n",
    "lower_limits = confidence_intervals.loc[:,'lower close']\n",
    "upper_limits = confidence_intervals.loc[:,'upper close']\n",
    "\n",
    "# Print best estimate predictions\n",
    "print(mean_forecast)"
   ]
  },
  {
   "cell_type": "markdown",
   "id": "912f5cec",
   "metadata": {},
   "source": [
    "### Plotting dynamic forecasts"
   ]
  },
  {
   "cell_type": "code",
   "execution_count": 68,
   "id": "c4297dbc",
   "metadata": {},
   "outputs": [
    {
     "data": {
      "image/png": "[encoded data removed]",
      "text/plain": [
       "<Figure size 640x480 with 1 Axes>"
      ]
     },
     "metadata": {},
     "output_type": "display_data"
    }
   ],
   "source": [
    "# plot the amazon data\n",
    "plt.plot(amazon.index, amazon['close'], label='observed')\n",
    "\n",
    "# plot your mean forecast\n",
    "plt.plot(mean_forecast.index, mean_forecast, color='r', label='forecast')\n",
    "\n",
    "# shade the area between your confidence limits\n",
    "plt.fill_between(lower_limits.index, lower_limits, upper_limits,\n",
    "                  color='pink')\n",
    "\n",
    "# set labels, legends and show plot\n",
    "plt.xlabel('Date')\n",
    "plt.ylabel('Amazon Stock Price - Close USD')\n",
    "plt.legend()\n",
    "plt.show()"
   ]
  },
  {
   "cell_type": "markdown",
   "id": "ace58ad1",
   "metadata": {},
   "source": [
    "## Intro to ARIMA models"
   ]
  },
  {
   "cell_type": "markdown",
   "id": "d5a8aa19",
   "metadata": {},
   "source": [
    "### Differencing and fitting ARMA"
   ]
  },
  {
   "cell_type": "code",
   "execution_count": 69,
   "id": "3a0a61b0",
   "metadata": {},
   "outputs": [
    {
     "name": "stderr",
     "output_type": "stream",
     "text": [
      "/home/israel/miniconda3/envs/ds2/lib/python3.12/site-packages/statsmodels/tsa/base/tsa_model.py:473: ValueWarning: A date index has been provided, but it has no associated frequency information and so will be ignored when e.g. forecasting.\n",
      "  self._init_dates(dates, freq)\n",
      "/home/israel/miniconda3/envs/ds2/lib/python3.12/site-packages/statsmodels/tsa/base/tsa_model.py:473: ValueWarning: A date index has been provided, but it has no associated frequency information and so will be ignored when e.g. forecasting.\n",
      "  self._init_dates(dates, freq)\n",
      "/home/israel/miniconda3/envs/ds2/lib/python3.12/site-packages/statsmodels/tsa/base/tsa_model.py:473: ValueWarning: A date index has been provided, but it has no associated frequency information and so will be ignored when e.g. forecasting.\n",
      "  self._init_dates(dates, freq)\n"
     ]
    },
    {
     "name": "stdout",
     "output_type": "stream",
     "text": [
      "                               SARIMAX Results                                \n",
      "==============================================================================\n",
      "Dep. Variable:                  close   No. Observations:                 1258\n",
      "Model:                 ARIMA(2, 0, 2)   Log Likelihood               -5532.371\n",
      "Date:                Thu, 18 Sep 2025   AIC                          11076.743\n",
      "Time:                        09:19:27   BIC                          11107.566\n",
      "Sample:                             0   HQIC                         11088.327\n",
      "                               - 1258                                         \n",
      "Covariance Type:                  opg                                         \n",
      "==============================================================================\n",
      "                 coef    std err          z      P>|z|      [0.025      0.975]\n",
      "------------------------------------------------------------------------------\n",
      "const          0.9870      0.494      1.997      0.046       0.018       1.956\n",
      "ar.L1         -0.1540      0.073     -2.120      0.034      -0.296      -0.012\n",
      "ar.L2          0.7945      0.072     11.094      0.000       0.654       0.935\n",
      "ma.L1          0.1362      0.067      2.020      0.043       0.004       0.268\n",
      "ma.L2         -0.8457      0.066    -12.834      0.000      -0.975      -0.717\n",
      "sigma2       386.6017      6.185     62.505      0.000     374.479     398.724\n",
      "===================================================================================\n",
      "Ljung-Box (L1) (Q):                   0.09   Jarque-Bera (JB):              6883.33\n",
      "Prob(Q):                              0.77   Prob(JB):                         0.00\n",
      "Heteroskedasticity (H):              15.57   Skew:                            -0.35\n",
      "Prob(H) (two-sided):                  0.00   Kurtosis:                        14.44\n",
      "===================================================================================\n",
      "\n",
      "Warnings:\n",
      "[1] Covariance matrix calculated using the outer product of gradients (complex-step).\n"
     ]
    }
   ],
   "source": [
    "# Take the first difference of the data\n",
    "amazon_diff = amazon.diff().dropna()\n",
    "\n",
    "# Create ARMA(2,2) model\n",
    "arma = ARIMA(amazon_diff, order=(2, 0, 2))\n",
    "\n",
    "# Fit model\n",
    "arma_results = arma.fit()\n",
    "\n",
    "# Print fit summary\n",
    "print(arma_results.summary())"
   ]
  },
  {
   "cell_type": "markdown",
   "id": "7ee43e48",
   "metadata": {},
   "source": [
    "### Unrolling ARMA forecast"
   ]
  },
  {
   "cell_type": "code",
   "execution_count": 74,
   "id": "2a7721c5",
   "metadata": {},
   "outputs": [
    {
     "name": "stdout",
     "output_type": "stream",
     "text": [
      "1258    1592.061610\n",
      "1259    1594.210171\n",
      "1260    1597.286346\n",
      "1261    1598.874439\n",
      "1262    1601.428775\n",
      "1263    1602.651935\n",
      "1264    1604.847864\n",
      "1265    1605.836278\n",
      "1266    1607.783596\n",
      "1267    1608.623789\n",
      "Name: predicted_mean, dtype: float64\n"
     ]
    },
    {
     "name": "stderr",
     "output_type": "stream",
     "text": [
      "/home/israel/miniconda3/envs/ds2/lib/python3.12/site-packages/statsmodels/tsa/base/tsa_model.py:837: ValueWarning: No supported index is available. Prediction results will be given with an integer index beginning at `start`.\n",
      "  return get_prediction_index(\n",
      "/home/israel/miniconda3/envs/ds2/lib/python3.12/site-packages/statsmodels/tsa/base/tsa_model.py:837: FutureWarning: No supported index is available. In the next version, calling this method in a model without a supported index will result in an exception.\n",
      "  return get_prediction_index(\n"
     ]
    }
   ],
   "source": [
    "# Make arma forecast of next 10 differences\n",
    "arma_diff_forecast = arma_results.get_forecast(steps=10).predicted_mean\n",
    "\n",
    "# Integrate the difference forecast\n",
    "arma_int_forecast = arma_diff_forecast.cumsum()\n",
    "\n",
    "# Make absolute value forecast\n",
    "arma_value_forecast = arma_int_forecast + amazon['close'].iloc[-1]\n",
    "\n",
    "# Print forecast\n",
    "print(arma_value_forecast)"
   ]
  },
  {
   "cell_type": "markdown",
   "id": "33b1e97f",
   "metadata": {},
   "source": [
    "### Fitting an ARIMA model"
   ]
  },
  {
   "cell_type": "code",
   "execution_count": 75,
   "id": "cf8c7f14",
   "metadata": {},
   "outputs": [
    {
     "name": "stderr",
     "output_type": "stream",
     "text": [
      "/home/israel/miniconda3/envs/ds2/lib/python3.12/site-packages/statsmodels/tsa/base/tsa_model.py:473: ValueWarning: A date index has been provided, but it has no associated frequency information and so will be ignored when e.g. forecasting.\n",
      "  self._init_dates(dates, freq)\n",
      "/home/israel/miniconda3/envs/ds2/lib/python3.12/site-packages/statsmodels/tsa/base/tsa_model.py:473: ValueWarning: A date index has been provided, but it has no associated frequency information and so will be ignored when e.g. forecasting.\n",
      "  self._init_dates(dates, freq)\n",
      "/home/israel/miniconda3/envs/ds2/lib/python3.12/site-packages/statsmodels/tsa/base/tsa_model.py:473: ValueWarning: A date index has been provided, but it has no associated frequency information and so will be ignored when e.g. forecasting.\n",
      "  self._init_dates(dates, freq)\n"
     ]
    },
    {
     "name": "stdout",
     "output_type": "stream",
     "text": [
      "1259    1593.644605\n",
      "1260    1601.911126\n",
      "1261    1605.418036\n",
      "1262    1600.970328\n",
      "1263    1592.690009\n",
      "1264    1588.196216\n",
      "1265    1591.594617\n",
      "1266    1599.726611\n",
      "1267    1605.104699\n",
      "1268    1602.806417\n",
      "Name: predicted_mean, dtype: float64\n"
     ]
    },
    {
     "name": "stderr",
     "output_type": "stream",
     "text": [
      "/home/israel/miniconda3/envs/ds2/lib/python3.12/site-packages/statsmodels/tsa/base/tsa_model.py:837: ValueWarning: No supported index is available. Prediction results will be given with an integer index beginning at `start`.\n",
      "  return get_prediction_index(\n",
      "/home/israel/miniconda3/envs/ds2/lib/python3.12/site-packages/statsmodels/tsa/base/tsa_model.py:837: FutureWarning: No supported index is available. In the next version, calling this method in a model without a supported index will result in an exception.\n",
      "  return get_prediction_index(\n"
     ]
    }
   ],
   "source": [
    "# Create ARIMA(2,1,2) model\n",
    "arima = ARIMA(amazon['close'], order=(2, 1, 2))\n",
    "\n",
    "# Fit ARIMA model\n",
    "arima_results = arima.fit()\n",
    "\n",
    "# Make ARIMA forecast of next 10 values\n",
    "arima_value_forecast = arima_results.get_forecast(steps=10).predicted_mean\n",
    "\n",
    "# Print forecast\n",
    "print(arima_value_forecast)"
   ]
  }
 ],
 "metadata": {
  "kernelspec": {
   "display_name": "ds2",
   "language": "python",
   "name": "python3"
  },
  "language_info": {
   "codemirror_mode": {
    "name": "ipython",
    "version": 3
   },
   "file_extension": ".py",
   "mimetype": "text/x-python",
   "name": "python",
   "nbconvert_exporter": "python",
   "pygments_lexer": "ipython3",
   "version": "3.12.8"
  }
 },
 "nbformat": 4,
 "nbformat_minor": 5
}
